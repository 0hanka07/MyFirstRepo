{
  "nbformat": 4,
  "nbformat_minor": 0,
  "metadata": {
    "colab": {
      "provenance": [],
      "include_colab_link": true
    },
    "kernelspec": {
      "name": "python3",
      "display_name": "Python 3"
    },
    "language_info": {
      "name": "python"
    }
  },
  "cells": [
    {
      "cell_type": "markdown",
      "metadata": {
        "id": "view-in-github",
        "colab_type": "text"
      },
      "source": [
        "<a href=\"https://colab.research.google.com/github/0hanka07/MyFirstRepo/blob/main/SemiSupervisedLearning.ipynb\" target=\"_parent\"><img src=\"https://colab.research.google.com/assets/colab-badge.svg\" alt=\"Open In Colab\"/></a>"
      ]
    },
    {
      "cell_type": "code",
      "source": [
        "import numpy as np\n",
        "import sklearn.datasets as datasets\n",
        "from sklearn import svm\n",
        "from sklearn import semi_supervised\n",
        "from sklearn import metrics\n",
        "# Load dataset\n",
        "rng = np.random.RandomState(0)\n",
        "ds_iris = datasets.load_iris()\n",
        "print('Actual labels:\\n',ds_iris.target,'\\n')"
      ],
      "metadata": {
        "colab": {
          "base_uri": "https://localhost:8080/"
        },
        "id": "XHh6mva2wvJ4",
        "outputId": "1c49a388-d1f7-4a95-8b3d-2e8764036133"
      },
      "execution_count": 1,
      "outputs": [
        {
          "output_type": "stream",
          "name": "stdout",
          "text": [
            "Actual labels:\n",
            " [0 0 0 0 0 0 0 0 0 0 0 0 0 0 0 0 0 0 0 0 0 0 0 0 0 0 0 0 0 0 0 0 0 0 0 0 0\n",
            " 0 0 0 0 0 0 0 0 0 0 0 0 0 1 1 1 1 1 1 1 1 1 1 1 1 1 1 1 1 1 1 1 1 1 1 1 1\n",
            " 1 1 1 1 1 1 1 1 1 1 1 1 1 1 1 1 1 1 1 1 1 1 1 1 1 1 2 2 2 2 2 2 2 2 2 2 2\n",
            " 2 2 2 2 2 2 2 2 2 2 2 2 2 2 2 2 2 2 2 2 2 2 2 2 2 2 2 2 2 2 2 2 2 2 2 2 2\n",
            " 2 2] \n",
            "\n"
          ]
        }
      ]
    },
    {
      "cell_type": "code",
      "source": [
        "# Create a copy of original y. We are going to use it later.\n",
        "y_orig = ds_iris.target.copy()\n",
        "\n",
        "# Create unlabeled data. Put '-1' instead of original label for unlabeled instances\n",
        "unl_pts = rng.rand(ds_iris.target.shape[0]) < 0.6\n",
        "print('Total:', ds_iris.target.shape[0],\n",
        "      ', Unlabeled:', len(unl_pts[unl_pts==True]),\n",
        "      ', Percent Unlabeled:', np.round(len(unl_pts[unl_pts==True])/ds_iris.target.shape[0]*100))"
      ],
      "metadata": {
        "colab": {
          "base_uri": "https://localhost:8080/"
        },
        "id": "TtpScitfxvl7",
        "outputId": "c0bec2ac-2319-492b-fa48-2a44d4230d49"
      },
      "execution_count": 2,
      "outputs": [
        {
          "output_type": "stream",
          "name": "stdout",
          "text": [
            "Total: 150 , Unlabeled: 87 , Percent Unlabeled: 58.0\n"
          ]
        }
      ]
    },
    {
      "cell_type": "code",
      "source": [
        "ds_iris.target[unl_pts] = -1\n",
        "print('Unlabeled Target:\\n',ds_iris.target) # Unlabeled taget are \"-1\""
      ],
      "metadata": {
        "colab": {
          "base_uri": "https://localhost:8080/"
        },
        "id": "8wghIBwIxaWr",
        "outputId": "fc305b27-e699-48ca-d441-33c3eceb4db3"
      },
      "execution_count": 3,
      "outputs": [
        {
          "output_type": "stream",
          "name": "stdout",
          "text": [
            "Unlabeled Target:\n",
            " [-1  0  0 -1 -1  0 -1  0  0 -1  0 -1 -1  0 -1 -1 -1  0  0  0  0  0 -1  0\n",
            " -1  0 -1  0 -1 -1 -1  0 -1 -1 -1  0  0  0  0  0 -1 -1  0 -1  0  0 -1 -1\n",
            " -1 -1 -1 -1  1 -1 -1 -1  1 -1 -1 -1 -1 -1  1 -1 -1 -1  1 -1  1 -1  1 -1\n",
            "  1  1  1 -1 -1 -1 -1 -1 -1 -1 -1  1 -1 -1 -1 -1 -1  1 -1  1 -1  1 -1 -1\n",
            " -1 -1  1 -1  2 -1  2  2 -1 -1 -1 -1 -1  2 -1  2  2 -1  2 -1  2 -1  2  2\n",
            "  2 -1  2  2 -1  2 -1 -1  2 -1  2 -1 -1 -1 -1 -1 -1  2  2 -1  2 -1 -1  2\n",
            "  2  2 -1  2  2  2]\n"
          ]
        }
      ]
    },
    {
      "cell_type": "code",
      "source": [
        "print('Semi-Supervised Learning: Self-Learning Results\\n')\n",
        "# Semi-Supervised Learning: Self-Learning\n",
        "svc = svm.SVC(probability=True,gamma='auto')\n",
        "lbl = semi_supervised.SelfTrainingClassifier(svc)\n",
        "lbl.fit(ds_iris.data,ds_iris.target)\n",
        "\n",
        "y_pred = lbl.predict(ds_iris.data)\n",
        "print('Semi-Supervised Labels:\\n',y_pred)\n",
        "\n",
        "acu = metrics.accuracy_score(y_orig, y_pred)\n",
        "print('Accuracy score: ', np.round(acu*100))"
      ],
      "metadata": {
        "colab": {
          "base_uri": "https://localhost:8080/"
        },
        "id": "dCepORzpxTse",
        "outputId": "161a56c6-fcdb-484b-beae-f77c0f46989f"
      },
      "execution_count": 4,
      "outputs": [
        {
          "output_type": "stream",
          "name": "stdout",
          "text": [
            "Semi-Supervised Learning: Self-Learning Results\n",
            "\n",
            "Semi-Supervised Labels:\n",
            " [0 0 0 0 0 0 0 0 0 0 0 0 0 0 0 0 0 0 0 0 0 0 0 0 0 0 0 0 0 0 0 0 0 0 0 0 0\n",
            " 0 0 0 0 0 0 0 0 0 0 0 0 0 1 1 1 1 1 1 1 1 1 1 1 1 1 1 1 1 1 1 1 1 1 1 1 1\n",
            " 1 1 1 2 1 1 1 1 1 2 1 1 1 1 1 1 1 1 1 1 1 1 1 1 1 1 2 2 2 2 2 2 1 2 2 2 2\n",
            " 2 2 2 2 2 2 2 2 2 2 2 2 2 2 2 2 2 2 2 2 2 2 2 2 2 2 2 1 2 2 2 2 2 2 2 2 2\n",
            " 2 2]\n",
            "Accuracy score:  97.0\n"
          ]
        }
      ]
    },
    {
      "cell_type": "markdown",
      "source": [
        "**sk-learn provides two label propagation models: LabelPropagation and LabelSpreading. Both work by constructing a similarity graph over all items in the input dataset.**"
      ],
      "metadata": {
        "id": "Xvl7m5z5y5ej"
      }
    },
    {
      "cell_type": "markdown",
      "source": [
        "**Let's first try Label Propagation technique**"
      ],
      "metadata": {
        "id": "6qF5CQUFzN_0"
      }
    },
    {
      "cell_type": "code",
      "source": [
        "# Semi-Supervised Learning: Label Propagation\n",
        "print('Semi-Supervised Learning: SelfLabel Propagation\\n')\n",
        "lbl = semi_supervised.LabelPropagation()\n",
        "lbl.fit(ds_iris.data,ds_iris.target)\n",
        "\n",
        "y_pred = lbl.predict(ds_iris.data)\n",
        "print('Semi-Supervised Labels:\\n',y_pred)\n",
        "\n",
        "acu = metrics.accuracy_score(y_orig, y_pred)\n",
        "print('Accuracy score: ', np.round(acu*100))"
      ],
      "metadata": {
        "colab": {
          "base_uri": "https://localhost:8080/"
        },
        "id": "quivoXtXyQS6",
        "outputId": "2238bd29-03a8-424d-db18-48bb23a4c36d"
      },
      "execution_count": 5,
      "outputs": [
        {
          "output_type": "stream",
          "name": "stdout",
          "text": [
            "Semi-Supervised Learning: SelfLabel Propagation\n",
            "\n",
            "Semi-Supervised Labels:\n",
            " [0 0 0 0 0 0 0 0 0 0 0 0 0 0 0 0 0 0 0 0 0 0 0 0 0 0 0 0 0 0 0 0 0 0 0 0 0\n",
            " 0 0 0 0 0 0 0 0 0 0 0 0 0 1 1 1 1 1 1 1 1 1 1 1 1 1 1 1 1 1 1 1 1 1 1 1 1\n",
            " 1 1 1 1 1 1 1 1 1 1 1 1 1 1 1 1 1 1 1 1 1 1 1 1 1 1 2 2 2 2 2 2 1 2 2 2 2\n",
            " 2 2 2 2 2 2 2 2 2 2 2 2 2 2 2 2 2 2 2 2 2 2 1 2 2 2 2 2 2 2 2 2 2 2 2 2 2\n",
            " 2 2]\n",
            "Accuracy score:  99.0\n"
          ]
        }
      ]
    },
    {
      "cell_type": "markdown",
      "source": [
        "**Let's now try Label Spreading technique**"
      ],
      "metadata": {
        "id": "eFddKmg5zVvG"
      }
    },
    {
      "cell_type": "code",
      "source": [
        "# Semi-Supervised Learning: Label Spreading\n",
        "print('Semi-Supervised Learning: Label Spreading\\n')\n",
        "lbl = semi_supervised.LabelSpreading()\n",
        "lbl.fit(ds_iris.data,ds_iris.target)\n",
        "\n",
        "y_pred = lbl.predict(ds_iris.data)\n",
        "print('Semi-Supervised Labels:\\n',y_pred)\n",
        "\n",
        "acu = metrics.accuracy_score(y_orig, y_pred)\n",
        "print('Accuracy score: ', np.round(acu*100))"
      ],
      "metadata": {
        "colab": {
          "base_uri": "https://localhost:8080/"
        },
        "id": "CGi4gtxcypds",
        "outputId": "a145abca-32e8-43e3-81e2-7c53abb7c7a1"
      },
      "execution_count": 6,
      "outputs": [
        {
          "output_type": "stream",
          "name": "stdout",
          "text": [
            "Semi-Supervised Learning: Label Spreading\n",
            "\n",
            "Semi-Supervised Labels:\n",
            " [0 0 0 0 0 0 0 0 0 0 0 0 0 0 0 0 0 0 0 0 0 0 0 0 0 0 0 0 0 0 0 0 0 0 0 0 0\n",
            " 0 0 0 0 0 0 0 0 0 0 0 0 0 1 1 1 1 1 1 1 1 1 1 1 1 1 1 1 1 1 1 1 1 1 1 1 1\n",
            " 1 1 1 1 1 1 1 1 1 1 1 1 1 1 1 1 1 1 1 1 1 1 1 1 1 1 2 2 2 2 2 2 1 2 2 2 2\n",
            " 2 2 2 2 2 2 2 2 2 2 2 2 2 2 2 2 2 2 2 2 2 2 1 2 2 2 2 2 2 2 2 2 2 2 2 2 2\n",
            " 2 2]\n",
            "Accuracy score:  99.0\n"
          ]
        }
      ]
    }
  ]
}