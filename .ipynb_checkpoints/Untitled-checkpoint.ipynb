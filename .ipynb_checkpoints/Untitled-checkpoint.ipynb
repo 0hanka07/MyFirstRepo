{
 "cells": [
  {
   "cell_type": "code",
   "execution_count": 1,
   "id": "046b0c96-4e5c-4b5e-8887-3e5a264f1278",
   "metadata": {},
   "outputs": [
    {
     "name": "stdout",
     "output_type": "stream",
     "text": [
      "File does not exist\n"
     ]
    }
   ],
   "source": [
    "# Import csv library\n",
    "import csv\n",
    "\n",
    "file_name = \"electronic-card-transactions-may-2024-csv-tables.xlsx.csv\"\n",
    "\n",
    "try:\n",
    "    # Open csv file and read data from a file\n",
    "    with open(file_name,encoding='UTF-8') as csv_file:\n",
    "        # Read a csv file\n",
    "        csv_reader = csv.reader(csv_file)\n",
    "        \n",
    "        # Display a list of values for each line in the file\n",
    "        for row in csv_reader:\n",
    "            print(row)\n",
    "except FileNotFoundError:\n",
    "    print(\"File does not exist\")\n"
   ]
  },
  {
   "cell_type": "code",
   "execution_count": null,
   "id": "38e145bc-57d6-489b-97ab-623050d16d3a",
   "metadata": {},
   "outputs": [],
   "source": [
    "print(\"something stupid\")"
   ]
  }
 ],
 "metadata": {
  "kernelspec": {
   "display_name": "COM728",
   "language": "python",
   "name": "com728"
  },
  "language_info": {
   "codemirror_mode": {
    "name": "ipython",
    "version": 3
   },
   "file_extension": ".py",
   "mimetype": "text/x-python",
   "name": "python",
   "nbconvert_exporter": "python",
   "pygments_lexer": "ipython3",
   "version": "3.10.14"
  }
 },
 "nbformat": 4,
 "nbformat_minor": 5
}
